{
 "cells": [
  {
   "cell_type": "markdown",
   "metadata": {},
   "source": [
    "# ScanBot Model"
   ]
  },
  {
   "cell_type": "markdown",
   "metadata": {},
   "source": [
    "This will take the image resize it , finds boundaries , edges,"
   ]
  },
  {
   "cell_type": "code",
   "execution_count": 4,
   "metadata": {},
   "outputs": [],
   "source": [
    "import cv2\n",
    "import numpy as np\n",
    "import mapper\n",
    "\n",
    "def mapp(h):\n",
    "    h = h.reshape((4,2))     #reshaping the target value\n",
    "    hnew = np.zeros((4,2),dtype = np.float32)\n",
    "\n",
    "    add = h.sum(1)\n",
    "    hnew[0] = h[np.argmin(add)]\n",
    "    hnew[2] = h[np.argmax(add)]\n",
    "\n",
    "    diff = np.diff(h,axis = 1)\n",
    "    hnew[1] = h[np.argmin(diff)]\n",
    "    hnew[3] = h[np.argmax(diff)]\n",
    "\n",
    "    return hnew\n",
    "\n",
    "pic=cv2.imread(r'C:\\Users\\Hp\\Downloads\\WhatsApp Image 2020-09-19 at 17.07.39.jpeg')   #reads the image from the given dirctory\n",
    "pic=cv2.resize(pic,(1300,800)) #resizing the image for better functioning\n",
    "temp=pic.copy()\n",
    "\n",
    "cnvgray=cv2.cvtColor(pic,cv2.COLOR_BGR2GRAY)  #RGB To Gray Scale\n",
    "cv2.imshow(\"Heading\",cnvgray)\n",
    "\n",
    "blur=cv2.GaussianBlur(cnvgray,(5,5),0) #gaussianBlur will smoothen out your image, (5,5) is the kernel size and 0 is sigma that determines the amount of blur\n",
    "cv2.imshow(\"Blur\",blur)\n",
    "\n",
    "edge=cv2.Canny(blur,30,50)  #30 MinThreshold and 50 is the MaxThreshold , these are the max, min values which helps to find canny edges \n",
    "cv2.imshow(\"Canny\",edge)\n",
    "\n",
    "\n",
    "contours,hierarchy=cv2.findContours(edge,cv2.RETR_LIST,cv2.CHAIN_APPROX_SIMPLE)  #retrieve the contours as a list, with simple apprximation model\n",
    "contours=sorted(contours,key=cv2.contourArea,reverse=True)    #to find the biggest contour\n",
    "\n",
    "#the loop extracts the boundary of the page\n",
    "for c in contours:\n",
    "    s=cv2.arcLength(c,True) #applicable for closed shapes\n",
    "    approx=cv2.approxPolyDP(c,0.02*s,True)\n",
    "\n",
    "    if len(approx)==4:      #to check if its square\n",
    "        target=approx\n",
    "        break\n",
    "        \n",
    "approx=mapp(target)    #find endpoints of the sheet\n",
    "\n",
    "pts=np.float32([[0,0],[800,0],[800,800],[0,800]])  #map to 800*800 target window\n",
    "\n",
    "op=cv2.getPerspectiveTransform(approx,pts)  #get the top or bird eye view effect\n",
    "dst=cv2.warpPerspective(temp,op,(800,800))\n",
    "\n",
    "\n",
    "cv2.imshow(\"Scanned\",dst)\n",
    "# press q or Esc to close\n",
    "cv2.waitKey(0)\n",
    "cv2.destroyAllWindows()"
   ]
  },
  {
   "cell_type": "code",
   "execution_count": null,
   "metadata": {},
   "outputs": [],
   "source": []
  },
  {
   "cell_type": "code",
   "execution_count": null,
   "metadata": {},
   "outputs": [],
   "source": []
  }
 ],
 "metadata": {
  "kernelspec": {
   "display_name": "Python 3",
   "language": "python",
   "name": "python3"
  },
  "language_info": {
   "codemirror_mode": {
    "name": "ipython",
    "version": 3
   },
   "file_extension": ".py",
   "mimetype": "text/x-python",
   "name": "python",
   "nbconvert_exporter": "python",
   "pygments_lexer": "ipython3",
   "version": "3.7.1"
  }
 },
 "nbformat": 4,
 "nbformat_minor": 2
}
